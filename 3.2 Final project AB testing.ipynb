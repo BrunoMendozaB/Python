{
 "cells": [
  {
   "cell_type": "markdown",
   "id": "a927c2bb",
   "metadata": {},
   "source": [
    "# 1. Preparing the environment"
   ]
  },
  {
   "cell_type": "code",
   "execution_count": 2,
   "id": "2ca88e1e",
   "metadata": {
    "scrolled": true
   },
   "outputs": [
    {
     "name": "stdout",
     "output_type": "stream",
     "text": [
      "<class 'pandas.core.frame.DataFrame'>\n",
      "RangeIndex: 48943 entries, 0 to 48942\n",
      "Data columns (total 12 columns):\n",
      " #   Column      Non-Null Count  Dtype  \n",
      "---  ------      --------------  -----  \n",
      " 0   Unnamed: 0  48943 non-null  int64  \n",
      " 1   id          48943 non-null  int64  \n",
      " 2   country     48943 non-null  object \n",
      " 3   gender      48943 non-null  object \n",
      " 4   group_name  48943 non-null  object \n",
      " 5   join_dt     48943 non-null  object \n",
      " 6   device      48943 non-null  object \n",
      " 7   count       48943 non-null  float64\n",
      " 8   sum         48943 non-null  float64\n",
      " 9   converted   48943 non-null  int64  \n",
      " 10  days_diff   48943 non-null  float64\n",
      " 11  novelty     48943 non-null  int64  \n",
      "dtypes: float64(3), int64(4), object(5)\n",
      "memory usage: 4.5+ MB\n"
     ]
    }
   ],
   "source": [
    "import pandas as pd\n",
    "dfdata = pd.read_csv('D:\\DATA ANALYSIS\\Final_proj\\Goblo.csv')\n",
    "dfdata.info()\n"
   ]
  },
  {
   "cell_type": "markdown",
   "id": "34d5c312",
   "metadata": {},
   "source": [
    "## Importing packages"
   ]
  },
  {
   "cell_type": "code",
   "execution_count": 3,
   "id": "fcf53c76",
   "metadata": {
    "scrolled": true
   },
   "outputs": [
    {
     "name": "stderr",
     "output_type": "stream",
     "text": [
      "C:\\Users\\Public\\Documents\\Wondershare\\CreatorTemp\\ipykernel_12708\\2079263886.py:14: MatplotlibDeprecationWarning: The seaborn styles shipped by Matplotlib are deprecated since 3.6, as they no longer correspond to the styles shipped by seaborn. However, they will remain available as 'seaborn-v0_8-<style>'. Alternatively, directly use the seaborn API instead.\n",
      "  plt.style.use('seaborn-whitegrid')\n"
     ]
    }
   ],
   "source": [
    "##     Import statistics packages\n",
    "\n",
    "import numpy as np\n",
    "import scipy.stats as stats\n",
    "import statsmodels.stats.api as sms\n",
    "import matplotlib as mpl\n",
    "import matplotlib.pyplot as plt\n",
    "import seaborn as sns\n",
    "from math import ceil\n",
    "\n",
    "##     This line alows plots to be displayed in the notebook\n",
    "%matplotlib inline\n",
    "# Some plot styling preferences\n",
    "plt.style.use('seaborn-whitegrid')\n",
    "\n",
    "##     This lines modify the default matplotlib fonts through all the notebook\n",
    "font = {'weight' : 'bold',\n",
    "'size' : 14}\n",
    "mpl.rc('font', **font)"
   ]
  },
  {
   "cell_type": "markdown",
   "id": "5ecb0bb5",
   "metadata": {},
   "source": [
    "# 2. Preparing the data"
   ]
  },
  {
   "cell_type": "markdown",
   "id": "b561b3d0",
   "metadata": {},
   "source": [
    "# 3. Preparing the test"
   ]
  },
  {
   "cell_type": "markdown",
   "id": "fc952144",
   "metadata": {},
   "source": [
    "## Calculating sample size"
   ]
  },
  {
   "cell_type": "code",
   "execution_count": 11,
   "id": "85c40440",
   "metadata": {},
   "outputs": [
    {
     "data": {
      "text/plain": [
       "-0.2837941092083278"
      ]
     },
     "execution_count": 11,
     "metadata": {},
     "output_type": "execute_result"
    }
   ],
   "source": [
    "## Thisi is the expected diference we'll find between groups\n",
    "\n",
    "effect_size = sms.proportion_effectsize(0.1,0.2)\n",
    "effect_size"
   ]
  },
  {
   "cell_type": "code",
   "execution_count": 7,
   "id": "f091f081",
   "metadata": {},
   "outputs": [
    {
     "data": {
      "text/plain": [
       "1483"
      ]
     },
     "execution_count": 7,
     "metadata": {},
     "output_type": "execute_result"
    }
   ],
   "source": [
    "## Calculating the sample size\n",
    "\n",
    "required_n=sms.NormalIndPower().solve_power(\n",
    "effect_size,\n",
    "power=0.8,\n",
    "alpha=0.05,\n",
    "ratio=1)\n",
    "required_n = int(required_n)\n",
    "required_n"
   ]
  },
  {
   "cell_type": "markdown",
   "id": "076ec6b7",
   "metadata": {},
   "source": [
    "## Knowing sample size, prepare the db abtest"
   ]
  },
  {
   "cell_type": "code",
   "execution_count": 8,
   "id": "fd3dbd5a",
   "metadata": {
    "scrolled": true
   },
   "outputs": [],
   "source": [
    "## Now we create our control and treatment groups\n",
    "\n",
    "ctrl_smpl = dfdata[dfdata['group_name'] == 'A']\n",
    "trtm_smpl = dfdata[dfdata['group_name'] == 'B']\n",
    "\n",
    "## We join both tables to perform the AB test\n",
    "\n",
    "abtest = pd.concat([ctrl_smpl,trtm_smpl],axis = 0) ## Axis 0 is rows, axis 1 columns\n",
    "\n",
    "## Now we drop the index. Is it really necessary??\n",
    "abtest.reset_index(drop=True, inplace=True)\n"
   ]
  },
  {
   "cell_type": "code",
   "execution_count": 9,
   "id": "9ad965b4",
   "metadata": {
    "scrolled": false
   },
   "outputs": [
    {
     "data": {
      "text/plain": [
       "group_name\n",
       "B    24600\n",
       "A    24343\n",
       "Name: count, dtype: int64"
      ]
     },
     "execution_count": 9,
     "metadata": {},
     "output_type": "execute_result"
    }
   ],
   "source": [
    "abtest['group_name'].value_counts()"
   ]
  },
  {
   "cell_type": "code",
   "execution_count": 10,
   "id": "64eef920",
   "metadata": {},
   "outputs": [
    {
     "name": "stdout",
     "output_type": "stream",
     "text": [
      "<class 'pandas.core.frame.DataFrame'>\n",
      "RangeIndex: 48943 entries, 0 to 48942\n",
      "Data columns (total 12 columns):\n",
      " #   Column      Non-Null Count  Dtype  \n",
      "---  ------      --------------  -----  \n",
      " 0   Unnamed: 0  48943 non-null  int64  \n",
      " 1   id          48943 non-null  int64  \n",
      " 2   country     48943 non-null  object \n",
      " 3   gender      48943 non-null  object \n",
      " 4   group_name  48943 non-null  object \n",
      " 5   join_dt     48943 non-null  object \n",
      " 6   device      48943 non-null  object \n",
      " 7   count       48943 non-null  float64\n",
      " 8   sum         48943 non-null  float64\n",
      " 9   converted   48943 non-null  int64  \n",
      " 10  days_diff   48943 non-null  float64\n",
      " 11  novelty     48943 non-null  int64  \n",
      "dtypes: float64(3), int64(4), object(5)\n",
      "memory usage: 4.5+ MB\n"
     ]
    }
   ],
   "source": [
    "abtest.info()"
   ]
  },
  {
   "cell_type": "markdown",
   "id": "57228071",
   "metadata": {},
   "source": [
    "# 4. Performing test for conversion rate"
   ]
  },
  {
   "cell_type": "markdown",
   "id": "f03fcb89",
   "metadata": {},
   "source": [
    "## 4.1 Knowing the metrics"
   ]
  },
  {
   "cell_type": "code",
   "execution_count": 8,
   "id": "afda082a",
   "metadata": {
    "scrolled": true
   },
   "outputs": [
    {
     "data": {
      "text/html": [
       "<div>\n",
       "<style scoped>\n",
       "    .dataframe tbody tr th:only-of-type {\n",
       "        vertical-align: middle;\n",
       "    }\n",
       "\n",
       "    .dataframe tbody tr th {\n",
       "        vertical-align: top;\n",
       "    }\n",
       "\n",
       "    .dataframe thead th {\n",
       "        text-align: right;\n",
       "    }\n",
       "</style>\n",
       "<table border=\"1\" class=\"dataframe\">\n",
       "  <thead>\n",
       "    <tr style=\"text-align: right;\">\n",
       "      <th></th>\n",
       "      <th>mean</th>\n",
       "      <th>std_dev</th>\n",
       "      <th>std_err</th>\n",
       "    </tr>\n",
       "    <tr>\n",
       "      <th>group_name</th>\n",
       "      <th></th>\n",
       "      <th></th>\n",
       "      <th></th>\n",
       "    </tr>\n",
       "  </thead>\n",
       "  <tbody>\n",
       "    <tr>\n",
       "      <th>A</th>\n",
       "      <td>0.039231</td>\n",
       "      <td>0.194144</td>\n",
       "      <td>0.001244</td>\n",
       "    </tr>\n",
       "    <tr>\n",
       "      <th>B</th>\n",
       "      <td>0.046301</td>\n",
       "      <td>0.210136</td>\n",
       "      <td>0.001340</td>\n",
       "    </tr>\n",
       "  </tbody>\n",
       "</table>\n",
       "</div>"
      ],
      "text/plain": [
       "                mean   std_dev   std_err\n",
       "group_name                              \n",
       "A           0.039231  0.194144  0.001244\n",
       "B           0.046301  0.210136  0.001340"
      ]
     },
     "execution_count": 8,
     "metadata": {},
     "output_type": "execute_result"
    }
   ],
   "source": [
    "converted_rate = abtest.groupby('group_name')['converted']\n",
    "\n",
    "std_p = lambda x: np.std(x,ddof=0)\n",
    "se_p = lambda x: stats.sem(x,ddof=0)\n",
    "\n",
    "##converted_rate = converted_rate.agg([np.mean,np.std('converted',ddof=0),stats.sem('converted',ddof=0)])\n",
    "converted_rate = converted_rate.agg([np.mean,std_p,se_p])\n",
    "converted_rate.columns = (['mean', 'std_dev','std_err'])\n",
    "converted_rate"
   ]
  },
  {
   "cell_type": "markdown",
   "id": "14331c60",
   "metadata": {},
   "source": [
    "## 4.2 Visualization"
   ]
  },
  {
   "cell_type": "code",
   "execution_count": 9,
   "id": "efe6b89d",
   "metadata": {},
   "outputs": [
    {
     "data": {
      "image/png": "[encoded data removed]",
      "text/plain": [
       "<Figure size 800x600 with 1 Axes>"
      ]
     },
     "metadata": {},
     "output_type": "display_data"
    }
   ],
   "source": [
    "plt.figure(figsize=(8,6))\n",
    "sns.barplot(x=abtest['group_name'], y=abtest['converted'])\n",
    "plt.ylim(0, 0.10)\n",
    "plt.title('Conversion rate by group', pad=20)\n",
    "plt.xlabel('Group', labelpad=15)\n",
    "plt.ylabel('Converted (proportion)', labelpad=15);\n"
   ]
  },
  {
   "cell_type": "markdown",
   "id": "8320177f",
   "metadata": {},
   "source": [
    "### 4.3 Performing test"
   ]
  },
  {
   "cell_type": "code",
   "execution_count": 10,
   "id": "eb2aa3a3",
   "metadata": {
    "scrolled": true
   },
   "outputs": [
    {
     "name": "stdout",
     "output_type": "stream",
     "text": [
      "z statistic: -3.8643\n",
      "p-value: 0.000111412\n",
      "ci 95% for control group: [0.037, 0.044]\n",
      "ci 95% for treatment group: [0.04167,0.04893]\n"
     ]
    }
   ],
   "source": [
    "from statsmodels.stats.proportion import proportions_ztest,proportion_confint\n",
    "\n",
    "control_results = abtest[abtest['group_name'] == 'A']['converted']\n",
    "treatment_results = abtest[abtest['group_name'] == 'B']['converted']\n",
    "\n",
    "n_con = control_results.count()\n",
    "n_treat = treatment_results.count()\n",
    "successes = [control_results.sum(), treatment_results.sum()]\n",
    "nobs = [n_con, n_treat]\n",
    "\n",
    "\n",
    "# Calculate z-statistic and p-value\n",
    "z_stat, pval = proportions_ztest(successes, nobs=nobs)\n",
    "\n",
    "# Calculate confidence intervals\n",
    "(conf_lower_con, conf_upper_con), (conf_lower_treat, conf_upper_treat) = proportion_confint(successes, nobs=nobs, alpha=0.05)\n",
    "\n",
    "\n",
    "print(f'z statistic: {z_stat:.4f}')\n",
    "print(f'p-value: {pval:.9f}')\n",
    "print(f'ci 95% for control group: [{conf_lower_con:.3f}, {conf_upper_con:.3f}]')\n",
    "print(f'ci 95% for treatment group: [{conf_lower_treat:.5f},{conf_upper_treat:.5f}]')"
   ]
  },
  {
   "cell_type": "markdown",
   "id": "03812223",
   "metadata": {},
   "source": [
    "### 4.4 Results\n",
    "\n",
    "Based on the results, with a p-value of 0.660 we can not confidently reject the null hypotesis. This is, there seems to be no difference between both groups.\n",
    "This conclussion is contrasted by the fact that interval of confidence between both groups don't overlap. This means the with 95% confidence, the expected values of both groups won't be in the same interval."
   ]
  },
  {
   "cell_type": "markdown",
   "id": "f33f83f1",
   "metadata": {},
   "source": [
    "## 5. performing test for Avg spent"
   ]
  },
  {
   "cell_type": "code",
   "execution_count": 11,
   "id": "53a8ff30",
   "metadata": {},
   "outputs": [],
   "source": [
    "### 5.1 Knowing the metrics"
   ]
  },
  {
   "cell_type": "code",
   "execution_count": 12,
   "id": "9d5b7862",
   "metadata": {
    "scrolled": true
   },
   "outputs": [
    {
     "data": {
      "text/html": [
       "<div>\n",
       "<style scoped>\n",
       "    .dataframe tbody tr th:only-of-type {\n",
       "        vertical-align: middle;\n",
       "    }\n",
       "\n",
       "    .dataframe tbody tr th {\n",
       "        vertical-align: top;\n",
       "    }\n",
       "\n",
       "    .dataframe thead th {\n",
       "        text-align: right;\n",
       "    }\n",
       "</style>\n",
       "<table border=\"1\" class=\"dataframe\">\n",
       "  <thead>\n",
       "    <tr style=\"text-align: right;\">\n",
       "      <th></th>\n",
       "      <th>mean</th>\n",
       "      <th>std_dev</th>\n",
       "      <th>std_err</th>\n",
       "    </tr>\n",
       "    <tr>\n",
       "      <th>group_name</th>\n",
       "      <th></th>\n",
       "      <th></th>\n",
       "      <th></th>\n",
       "    </tr>\n",
       "  </thead>\n",
       "  <tbody>\n",
       "    <tr>\n",
       "      <th>A</th>\n",
       "      <td>3.374518</td>\n",
       "      <td>25.935858</td>\n",
       "      <td>0.166232</td>\n",
       "    </tr>\n",
       "    <tr>\n",
       "      <th>B</th>\n",
       "      <td>3.390867</td>\n",
       "      <td>25.413593</td>\n",
       "      <td>0.162031</td>\n",
       "    </tr>\n",
       "  </tbody>\n",
       "</table>\n",
       "</div>"
      ],
      "text/plain": [
       "                mean    std_dev   std_err\n",
       "group_name                               \n",
       "A           3.374518  25.935858  0.166232\n",
       "B           3.390867  25.413593  0.162031"
      ]
     },
     "execution_count": 12,
     "metadata": {},
     "output_type": "execute_result"
    }
   ],
   "source": [
    "# Define custom aggregation functions\n",
    "custom_mean = lambda x: np.mean(x)\n",
    "custom_std = lambda x: np.std(x, ddof=0)\n",
    "custom_se = lambda x: stats.sem(x, ddof=0)\n",
    "\n",
    "# Group by 'group_name' and calculate the mean, standard deviation, and standard error of 'tot_spent' while considering zero values\n",
    "grouped_data = abtest.groupby('group_name')['sum']\n",
    "result = grouped_data.agg([custom_mean, custom_std, custom_se])\n",
    "result.columns = (['mean', 'std_dev','std_err'])\n",
    "\n",
    "result\n"
   ]
  },
  {
   "cell_type": "markdown",
   "id": "43725487",
   "metadata": {},
   "source": [
    "### 4.2 Visualization"
   ]
  },
  {
   "cell_type": "code",
   "execution_count": 13,
   "id": "bfa76600",
   "metadata": {},
   "outputs": [
    {
     "data": {
      "image/png": "[encoded data removed]",
      "text/plain": [
       "<Figure size 800x600 with 1 Axes>"
      ]
     },
     "metadata": {},
     "output_type": "display_data"
    }
   ],
   "source": [
    "plt.figure(figsize=(8,6))\n",
    "sns.barplot(x=abtest['group_name'], y=abtest['sum'])\n",
    "plt.ylim(0, 5.5)\n",
    "plt.title('Avg by group', pad=20)\n",
    "plt.xlabel('Group', labelpad=15)\n",
    "plt.ylabel('Spent (average)', labelpad=15);\n"
   ]
  },
  {
   "cell_type": "markdown",
   "id": "0d1cd769",
   "metadata": {},
   "source": [
    "## 5.3 Performing test"
   ]
  },
  {
   "cell_type": "code",
   "execution_count": 28,
   "id": "6edde8ef",
   "metadata": {},
   "outputs": [
    {
     "name": "stdout",
     "output_type": "stream",
     "text": [
      "T-Statistic: -0.07043243221259018\n",
      "P-Value: 0.9438497659375841\n",
      "Standard error: 0.2321358148567269\n",
      "Critical value: 1.9600124577813611\n",
      "Margin Error: 0.45498908901641233\n",
      "Mean diff: -0.01634847795798766\n",
      "Confidence Interval: (-0.4713375669744, 0.43864061105842467)\n"
     ]
    }
   ],
   "source": [
    "from statsmodels.stats.proportion import proportions_ztest,proportion_confint\n",
    "\n",
    "control_grp = abtest[abtest['group_name'] == 'A']['sum']\n",
    "test_grp =    abtest[abtest['group_name'] == 'B']['sum']\n",
    "\n",
    "\n",
    "t_statistic, p_value = stats.ttest_ind(control_grp, test_grp)\n",
    "\n",
    "# Calculate confidence interval\n",
    "n1 = len(control_grp)\n",
    "n2 = len(test_grp)\n",
    "df = n1 + n2 - 2  # degrees of freedom\n",
    "alpha = 0.05  # significance level\n",
    "std_err = np.sqrt(np.var(control_grp) / n1 + np.var(test_grp) / n2)\n",
    "crit_val = stats.t.ppf(1 - alpha / 2, df)\n",
    "margin_error = stats.t.ppf(1 - alpha / 2, df) * std_err\n",
    "mean_diff = np.mean(control_grp) - np.mean(test_grp)\n",
    "confidence_interval = (mean_diff - margin_error, mean_diff + margin_error)\n",
    "\n",
    "# Print the results\n",
    "print(\"T-Statistic:\", t_statistic)\n",
    "print(\"P-Value:\", p_value)\n",
    "print(\"Standard error:\", std_err)\n",
    "print(\"Critical value:\", crit_val)\n",
    "print(\"Margin Error:\", margin_error)\n",
    "print(\"Mean diff:\", mean_diff)\n",
    "print(\"Confidence Interval:\", confidence_interval)"
   ]
  },
  {
   "cell_type": "code",
   "execution_count": null,
   "id": "bac428d6",
   "metadata": {},
   "outputs": [],
   "source": []
  },
  {
   "cell_type": "code",
   "execution_count": null,
   "id": "aba92937",
   "metadata": {},
   "outputs": [],
   "source": []
  }
 ],
 "metadata": {
  "kernelspec": {
   "display_name": "Python 3 (ipykernel)",
   "language": "python",
   "name": "python3"
  },
  "language_info": {
   "codemirror_mode": {
    "name": "ipython",
    "version": 3
   },
   "file_extension": ".py",
   "mimetype": "text/x-python",
   "name": "python",
   "nbconvert_exporter": "python",
   "pygments_lexer": "ipython3",
   "version": "3.11.3"
  }
 },
 "nbformat": 4,
 "nbformat_minor": 5
}
