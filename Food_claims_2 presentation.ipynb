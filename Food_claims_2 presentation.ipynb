{
 "cells": [
  {
   "cell_type": "markdown",
   "id": "a5b3bc0e-b993-4ee3-bd07-825a474bd0d9",
   "metadata": {
    "tags": []
   },
   "source": [
    "# Data Analyst Associate Practical Exam Submission\n",
    "\n",
    "**You can use any tool that you want to do your analysis and create visualizations. Use this template to write up your summary for submission.**\n",
    "\n",
    "You can use any markdown formatting you wish. If you are not familiar with Markdown, read the [Markdown Guide](https://s3.amazonaws.com/talent-assets.datacamp.com/Markdown+Guide.pdf) before you start.\n",
    "\n"
   ]
  },
  {
   "cell_type": "markdown",
   "id": "d1b1a012-1ccb-40e7-a1ad-77b60b256690",
   "metadata": {
    "jp-MarkdownHeadingCollapsed": true,
    "tags": []
   },
   "source": [
    "## Task 1\n",
    "\n"
   ]
  },
  {
   "cell_type": "markdown",
   "id": "714a7083-7a43-4b0b-8ed4-2675efc87691",
   "metadata": {
    "tags": []
   },
   "source": [
    "**claim_id** Nominal. The unique identifier of the claim. Missing values are not possible due to the database structure. **No changes made.**\n",
    "\n",
    "**time_to_close** Discrete. The number of days to close the claim. Any positive value. Replace missing values with the overall median time to close. \n",
    "No missing values, all values above 0. **No changes made.**\n",
    "\n",
    "**claim_amount** Continuous. The initial claim requested in the currency of Brazil, rounded to 2 decimal places. Replace missing values with the overall median claim amount. amount_paid Continuous. \n",
    "**claim_amount was transformed to float and rounded to 2 decimal places.**\n",
    "\n",
    "Final **amount_paid**. In the currency of Brazil. Rounded to 2 decimal places. Replace missing values with the overall median amount paid.\n",
    "**amount_paid came in float, not currency. 36 missing values found that where replaced by the median value calculated at 20105.70**\n",
    "\n",
    "**location** Nominal. Location of the claim, one of “RECIFE”, “SAO LUIS”, “FORTALEZA”, or “NATAL”. Remove missing values. No missing values. **No changes made.**\n",
    "\n",
    "**individuals_on_claim** Discrete. Number of individuals on this claim. Minimum 1 person. Replace missing value with 0. No missing values and all values above 1. **No changes made.**\n",
    "\n",
    "**linked_cases** Nominal. Whether this claim is linked to other cases. Either TRUE or FALSE. Replace missing values with FALSE. \n",
    "**Some 26 missing values found that where replaced by False**\n",
    "\n",
    "**cause** Nominal. Cause of the food poisoning. One of “vegetable”, “meat” or “unknown”. Replace missing values with ‘unknown’.\n",
    "**No missing values found. 30 misspelled values that where corrected.**"
   ]
  },
  {
   "cell_type": "markdown",
   "id": "efcbce1b-3ff3-44ae-9f6b-7cc016418d72",
   "metadata": {},
   "source": [
    "## Task 2"
   ]
  },
  {
   "cell_type": "markdown",
   "id": "e7633f6c-408b-411c-9ab4-8cbd8f6984a8",
   "metadata": {},
   "source": [
    "In the following images we can obeserve that Recife is the location with the highest count of claims, at 885 claims that represent 44.25% of the total number of claims. IN second place but with notorious difference is Sao Luis with 517 cases representing 25.85% of total claims.\n",
    "\n",
    "In thrid place we find Fortaleza (311 claims, 15.55% of total), followed closely by Natal (287 cases and 14.35% of total claims).\n",
    "\n",
    "a) Recife is the location with the most cases overall.\n",
    "b) We observe that claims are not balanced through all locations,having two locations that stand out for processing more claims than the rest."
   ]
  },
  {
   "cell_type": "markdown",
   "id": "fb9016c7-5435-4f50-a1f6-85c0e14e58a2",
   "metadata": {},
   "source": [
    "![image 1](image%201.png)\n"
   ]
  },
  {
   "cell_type": "markdown",
   "id": "84644558-2dca-4367-9464-65942e189236",
   "metadata": {},
   "source": [
    "![image 2](image%202.png)\n"
   ]
  },
  {
   "cell_type": "markdown",
   "id": "ce5f6df2-fbf2-4c44-9209-9ee668876b53",
   "metadata": {},
   "source": [
    "## Task 3"
   ]
  },
  {
   "cell_type": "markdown",
   "id": "8fcff247-db49-42c0-8710-51848aeb6347",
   "metadata": {},
   "source": [
    "'Time_to_close' observations shown below display a trend towards a normal distribution with a moderate right skewness. \n",
    "This is confirmed by the fact that the median and mode (179 days both) are lower than the mean, which is 185.6 days or around 6 months.\n",
    "Also we validated the skewness presence (see python notebook attached) whit a skewness value of 1.29. "
   ]
  },
  {
   "cell_type": "markdown",
   "id": "98cf1aa9-0b59-4295-8819-f6425cbea51d",
   "metadata": {},
   "source": [
    "![image 3](image%203.png)\n"
   ]
  },
  {
   "cell_type": "markdown",
   "id": "c5fbe3a0-d277-437c-a1a0-f1edf80684f7",
   "metadata": {},
   "source": [
    "## Task 4"
   ]
  },
  {
   "cell_type": "markdown",
   "id": "cfdc0ae4-1222-4013-bd55-c08c85a2851b",
   "metadata": {},
   "source": [
    "We studied the relationship between 'time_to_close' and 'location' and found that the average time to close the claims across the four locations is almost the same, being the diference between the top and bottom performers of only 1.3%. \n",
    "\n",
    "A further look into the time to close per location boxplots, which also includes amount paid for reference only, shows us that although 'time_to_close' is similar, NATAL has lower dispersion while RECIFE has the larger dispersion. Dispersion seems to be correlated to the volume of claims solved by each location."
   ]
  },
  {
   "cell_type": "markdown",
   "id": "170dd2ea-340f-4ab4-94c8-fe077342e98e",
   "metadata": {},
   "source": [
    "_Write your answer here_\n",
    "![image 4](image%204.png)\n"
   ]
  },
  {
   "cell_type": "markdown",
   "id": "9c10e272-0814-4520-a344-867ba1bdae89",
   "metadata": {},
   "source": [
    "![image 6](image%206.png)\n"
   ]
  },
  {
   "cell_type": "markdown",
   "id": "f60c0c55-8dbd-4976-a09e-3fad263b1f24",
   "metadata": {},
   "source": [
    "Conclussions:\n",
    "\n",
    "Better distribution of workload per location may help diminish the dispersion.\n",
    "Also stadardizing procedures will help reducing time to close claims."
   ]
  },
  {
   "cell_type": "markdown",
   "id": "f635131a-00f8-44dd-b610-509db41c1154",
   "metadata": {
    "tags": []
   },
   "source": [
    "## ✅ When you have finished...\n",
    "-  Publish your Workspace using the option on the left\n",
    "-  Check the published version of your report:\n",
    "\t-  Can you see everything you want us to grade?\n",
    "    -  Are all the graphics visible?\n",
    "-  Review the grading rubric. Have you included everything that will be graded?\n",
    "-  Head back to the [Certification Dashboard](https://app.datacamp.com/certification) to submit your practical exam"
   ]
  }
 ],
 "metadata": {
  "colab": {
   "name": "Welcome to DataCamp Workspaces.ipynb",
   "provenance": []
  },
  "kernelspec": {
   "display_name": "Python 3 (ipykernel)",
   "language": "python",
   "name": "python3"
  },
  "language_info": {
   "codemirror_mode": {
    "name": "ipython",
    "version": 3
   },
   "file_extension": ".py",
   "mimetype": "text/x-python",
   "name": "python",
   "nbconvert_exporter": "python",
   "pygments_lexer": "ipython3",
   "version": "3.11.4"
  }
 },
 "nbformat": 4,
 "nbformat_minor": 5
}
